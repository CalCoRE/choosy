{
 "cells": [
  {
   "cell_type": "markdown",
   "id": "a00c67f2-d34d-457c-a3b4-1e7c7cd24914",
   "metadata": {},
   "source": [
    "# How to be Choosy: Billboard Hot 100"
   ]
  },
  {
   "cell_type": "code",
   "execution_count": null,
   "id": "aaf76b74-92e0-40f2-9659-aa10cc48df77",
   "metadata": {},
   "outputs": [],
   "source": [
    "# import urllib # uncomment if you'd like to use the live datastream\n",
    "import pandas as pd\n",
    "from datetime import datetime as dt"
   ]
  },
  {
   "cell_type": "code",
   "execution_count": null,
   "id": "e44bca92-be45-486f-a1eb-fb70367c1f59",
   "metadata": {},
   "outputs": [],
   "source": [
    "source = \"bh100.csv\" # this is the dataset we want\n",
    "bh100 = pd.read_csv(source) # load it as a data frame\n",
    "bh100"
   ]
  },
  {
   "cell_type": "markdown",
   "id": "22b0125b-0617-4689-bdd0-0ec688f36329",
   "metadata": {},
   "source": [
    "# Wrangling Too Many Cases"
   ]
  },
  {
   "cell_type": "markdown",
   "id": "16e2b639-da2c-421b-bb81-c4efae1b0b48",
   "metadata": {},
   "source": [
    "## Random Selection"
   ]
  },
  {
   "cell_type": "code",
   "execution_count": null,
   "id": "144f4c28-29f2-40d7-bd2e-a4a7475f4b64",
   "metadata": {},
   "outputs": [],
   "source": [
    "bh100reduced = bh100.sample(5000).head(10) # put a randomly selected 5000 rows in bh100reduced\n",
    "bh100reduced"
   ]
  },
  {
   "cell_type": "code",
   "execution_count": null,
   "id": "9319f9eb-476e-4098-ac02-72d280606c5e",
   "metadata": {},
   "outputs": [],
   "source": [
    "# the line below returns , a total of 4916 records\n",
    "bh100reduced = bh100.iloc[::6, :] # put every 6th row of bh100 in bh100reduced\n",
    "bh100reduced"
   ]
  },
  {
   "cell_type": "markdown",
   "id": "bb3913c9-7e33-4a80-83a7-191e219b58c9",
   "metadata": {},
   "source": [
    "## Purposeful Sampling by Attribute(s)"
   ]
  },
  {
   "cell_type": "code",
   "execution_count": null,
   "id": "35f9aed3-8d52-4593-9571-e9441af1115e",
   "metadata": {},
   "outputs": [],
   "source": [
    "# put only the records with \"Highest BH100 Position\" equal to 1 in bh100 reduced\n",
    "bh100reduced = bh100[bh100['Highest BH100 Position']==1] \n",
    "bh100reduced"
   ]
  },
  {
   "cell_type": "markdown",
   "id": "f61b2484-59a2-4edc-94af-53bda3c0c98e",
   "metadata": {},
   "source": [
    "# LEARN MORE ABOUT THIS DATASET\n",
    "\n",
    "This dataset includes every song that's ever appeared on the Billboard Hot 100 Charts (August 1958-May 2021). Only some of the available attributes are initially shown. Use the \"attributes\" tab in the \"Choosy\" window to select which attributes or attribute groups to show and hide.\n",
    "\n",
    "### About the Attribute Groups. \n",
    "Each record includes Basic Info such as the Song Name, Performer, the Month and Year released; Popularity measures such as the song's highest Billboard position and the number of weeks the song stayed on the the Hot 100 list; and a list of the Genre(s) represented by the song. When available, each song record also includes information scraped from Spotify including the Spotify ID, URL, and popularity on the Spotify app. A number of Spotify-generated measures of musical features are described in Performance Features exploring the song's \"speechiness,\" \"liveness,\" and other inferred performance features; Emotion Features exploring inferred features such as the song's energy level and valence; and Sound Features such as the song's tempo, time signature, and loudness. \n",
    "\n",
    "### About the Attributes. \n",
    "Song Name\n",
    "Performer\n",
    "Year Released\n",
    "*Highest BH100 Position* was computed this from \"Hot Stuff\" database using min position listing for this SongID\n",
    "Spotify Popularity\n",
    "*Danceability* describes how suitable a track is for dancing based on a combination of musical elements including tempo, rhythm stability, beat strength, and overall regularity. A value of 0.0 is least danceable and 1.0 is most danceable.\n",
    "*Energy* is a measure from 0.0 to 1.0 and represents a perceptual measure of intensity and activity. Typically, energetic tracks feel fast, loud, and noisy. For example, death metal has high energy, while a Bach prelude scores low on the scale. Perceptual features contributing to this attribute include dynamic range, perceived loudness, timbre, onset rate, and general entropy.\n",
    "*Loudness* of a track is measured in decibels (dB). Loudness values are averaged across the entire track and are useful for comparing relative loudness of tracks. Loudness is the quality of a sound that is the primary psychological correlate of physical strength (amplitude). Values typically range between -60 and 0 db.\n",
    "*Speechiness* detects the presence of spoken words in a track. The more exclusively speech-like the recording (e.g. talk show, audio book, poetry), the closer to 1.0 the attribute value. Values above 0.66 describe tracks that are probably made entirely of spoken words. Values between 0.33 and 0.66 describe tracks that may contain both music and speech, either in sections or layered, including such cases as rap music. Values below 0.33 most likely represent music and other non-speech-like tracks.\n",
    "*Valence* is a measure from 0.0 to 1.0 describing the musical positiveness conveyed by a track. Tracks with high valence sound more positive (e.g. happy, cheerful, euphoric), while tracks with low valence sound more negative (e.g. sad, depressed, angry).\n",
    "*Tempo* is estimated in beats per minute (BPM). In musical terminology, tempo is the speed or pace of a given piece and derives directly from the average beat duration.\n",
    "\n",
    "### History and Purpose. \n",
    "This dataset was initially imported into CODAP in Summer 2022 for a teacher workshop. It was updated in Spring 2023, and is being used as part of the Writing Data Stories project and the City University of New York's Computing Integrated Teacher Education (CUNY CITE) program. \n",
    "\n",
    "### Data Sources and Data Cleaning. \n",
    "This dataset was constructed by Sean Miller (github handle: HipsterVizData) using APIs to download Billboard Hot 100 (BH100) and Spotify (S) data. The full dataset and additional information about its original construction can be accessed at this link. Michelle Wilkerson of the WDS team  merged the two tables in the dataset by mapping the BH100 Song Name attribute to the Spotify SongID, removing all Spotify records that did not have a corresponding BH100 entry but retaining BH100 songs that did not have corresponding Spotify entries. Michelle imported attribute descriptions from the original dataset, editing a few descriptions for readability at the middle school level, consolidated music genres into 7 major genre flags while retaining the full genre list as a separate attribute; and removed several attributes for simplicity. Michelle also grouped Spotify-generated song features into three categories (Performance, Emotion, and Sound Features) visible in the \"Choosy\" menu."
   ]
  },
  {
   "cell_type": "code",
   "execution_count": null,
   "id": "56938bec-7589-4ddb-a922-d4c9f891dc8e",
   "metadata": {},
   "outputs": [],
   "source": []
  }
 ],
 "metadata": {
  "kernelspec": {
   "display_name": "Python 3 (ipykernel)",
   "language": "python",
   "name": "python3"
  },
  "language_info": {
   "codemirror_mode": {
    "name": "ipython",
    "version": 3
   },
   "file_extension": ".py",
   "mimetype": "text/x-python",
   "name": "python",
   "nbconvert_exporter": "python",
   "pygments_lexer": "ipython3",
   "version": "3.11.9"
  }
 },
 "nbformat": 4,
 "nbformat_minor": 5
}
